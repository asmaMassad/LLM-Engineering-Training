{
 "cells": [
  {
   "cell_type": "markdown",
   "id": "305d59b3-5009-41c4-88ac-e309da42e819",
   "metadata": {},
   "source": [
    "# Prompt Engineering"
   ]
  },
  {
   "cell_type": "code",
   "execution_count": 1,
   "id": "fc7f8a23-441e-4c9d-a457-7e3a4a3777c5",
   "metadata": {},
   "outputs": [],
   "source": [
    "from IPython.display import display, Markdown\n",
    "from openai import OpenAI\n",
    "import ollama\n",
    "import json\n",
    "import os"
   ]
  },
  {
   "cell_type": "code",
   "execution_count": 2,
   "id": "2823eefc-a3c6-4ab0-8799-f57cd5a53bf8",
   "metadata": {},
   "outputs": [],
   "source": [
    "MODEL_TYPE_OPENAI = 'OPENAI'\n",
    "MODEL_TYPE_LOCALAI = 'LOCAL_LLM'\n",
    "DEFAULT_LLM = MODEL_TYPE_LOCALAI"
   ]
  },
  {
   "cell_type": "code",
   "execution_count": 3,
   "id": "1a89677f-2c9e-4ede-b037-3e6fcfb3dace",
   "metadata": {},
   "outputs": [],
   "source": [
    "# NOTE: If you have access to openAI, this can be easily used with the same\n",
    "'''MODEL_TYPE_OPENAI = 'OPENAI'\n",
    "MODEL_TYPE_LOCALAI = 'LOCAL_LLM'\n",
    "DEFAULT_LLM = MODEL_TYPE_LOCALAI\n",
    "OPENAI_TOKEN = '<your token>'\n",
    "OPEN_AI_MODEL = \"gpt-4o-mini\"\n",
    "cloud_client = OpenAI(\n",
    "        api_key=OPENAI_TOKEN,\n",
    "    )'''\n",
    "\n",
    "# llama quantized\n",
    "LOCAL_MODEL_NAME = \"llama3.2\"\n",
    "local_client = OpenAI(\n",
    "    base_url = 'http://localhost:11434/v1',\n",
    "    api_key='ollama', \n",
    ")"
   ]
  },
  {
   "cell_type": "code",
   "execution_count": 4,
   "id": "fcf89e42-f8c3-4684-afaa-3552bb00fa5b",
   "metadata": {},
   "outputs": [],
   "source": [
    "def get_completion(prompt, messages=None,temperature=0,model_type=DEFAULT_LLM):\n",
    "\n",
    "    # select the model\n",
    "    if model_type == \"OPENAI\":\n",
    "        model = OPEN_AI_MODEL\n",
    "        client = cloud_client\n",
    "    else:\n",
    "        model = LOCAL_MODEL_NAME\n",
    "        client = local_client\n",
    "\n",
    "    # if we only want to use prompt\n",
    "    if prompt and not messages:\n",
    "        messages = [{\"role\": \"user\", \"content\": prompt}]\n",
    "\n",
    "    # get model response\n",
    "    response = client.chat.completions.create(\n",
    "        model=model,\n",
    "        messages = messages,\n",
    "        temperature=temperature\n",
    "    )\n",
    "    return response.choices[0].message.content"
   ]
  },
  {
   "cell_type": "markdown",
   "id": "4981462e-9e37-4e0c-91b2-f97317c882c4",
   "metadata": {},
   "source": [
    "## Prompting Strategies\n",
    "\n",
    "### 1. Be Clear and Specific"
   ]
  },
  {
   "cell_type": "code",
   "execution_count": 5,
   "id": "a02f99a3-1243-45e4-a91d-dbfc5571c2fc",
   "metadata": {},
   "outputs": [
    {
     "data": {
      "text/markdown": [
       "> sample output using **LOCAL_LLM**"
      ],
      "text/plain": [
       "<IPython.core.display.Markdown object>"
      ]
     },
     "metadata": {},
     "output_type": "display_data"
    },
    {
     "name": "stdout",
     "output_type": "stream",
     "text": [
      "The formula to calculate the area of a circle is:\n",
      "\n",
      "Area = πr^2\n",
      "\n",
      "Where:\n",
      "\n",
      "* Area is the total area of the circle\n",
      "* π (pi) is a mathematical constant approximately equal to 3.14159\n",
      "* r is the radius of the circle\n",
      "\n",
      "To work out examples, let's use two different circles.\n",
      "\n",
      "Example 1:\n",
      "Radius of the circle = 4 cm\n",
      "\n",
      "Area = πr^2\n",
      "= 3.14159 x (4)^2\n",
      "= 3.14159 x 16\n",
      "= 50.26548 cm^2\n",
      "\n",
      "So, the area of this circle is approximately 50.27 cm^2.\n",
      "\n",
      "Example 2:\n",
      "Radius of the circle = 8 inches\n",
      "\n",
      "Area = πr^2\n",
      "= 3.14159 x (8)^2\n",
      "= 3.14159 x 64\n",
      "= 201.06176 in^2\n",
      "\n",
      "So, the area of this circle is approximately 201.06 in^2.\n",
      "\n",
      "Note: You can use a calculator to find the value of π and calculate the area more easily.\n"
     ]
    }
   ],
   "source": [
    "text = \"\"\"\n",
    "How do I calculate the area of a circle? Provide me with details on the formula and 2 worked out examples.\n",
    "\"\"\"\n",
    "\n",
    "prompt = f\"\"\"\n",
    "```{text}```\n",
    "\"\"\"\n",
    "display(Markdown(f\"> sample output using **{DEFAULT_LLM}**\"))\n",
    "print(get_completion(prompt))"
   ]
  },
  {
   "cell_type": "code",
   "execution_count": 7,
   "id": "4f06bf14-4a6d-4063-97f7-14625ae37bdf",
   "metadata": {},
   "outputs": [
    {
     "data": {
      "text/markdown": [
       "> sample output using **LOCAL_LLM**"
      ],
      "text/plain": [
       "<IPython.core.display.Markdown object>"
      ]
     },
     "metadata": {},
     "output_type": "display_data"
    },
    {
     "data": {
      "text/markdown": [
       "> system prompt :  **\n",
       "You are an experienced teacher for primary school tasked with helping students with their questions \n",
       "**"
      ],
      "text/plain": [
       "<IPython.core.display.Markdown object>"
      ]
     },
     "metadata": {},
     "output_type": "display_data"
    },
    {
     "name": "stdout",
     "output_type": "stream",
     "text": [
      "That's a great question, young explorers!\n",
      "\n",
      "So, you know how our bodies need food to give us energy and help us grow strong? Well, when we eat, our body breaks down the food into tiny bits that can be used for energy. This process is called digestion.\n",
      "\n",
      "Here's what happens:\n",
      "\n",
      "1. **Mouth**: When we eat, our teeth chew the food into smaller pieces. Our tongue helps mix it with saliva, which contains special helpers called enzymes. These enzymes start to break down the food into even smaller bits.\n",
      "2. **Esophagus**: The food goes down a long tube called the esophagus, which carries it to the stomach.\n",
      "3. **Stomach**: The stomach is like a big bag that mixes and churns the food with special juices. These juices contain more enzymes that help break down the food into tiny bits called nutrients.\n",
      "4. **Small intestine**: The partially digested food then moves into the small intestine, where most of our nutrient absorption happens. Special tiny fingers called villi in the walls of the small intestine help grab onto these nutrients and pull them into the bloodstream.\n",
      "5. **Large intestine (colon)**: The leftovers from the small intestine move to the large intestine, also known as the colon. Here, water is absorbed, and the waste becomes more solid.\n",
      "6. **Rectum**: The final step is when the waste moves out of the body through the anus.\n",
      "\n",
      "Our body uses all these nutrients to give us energy, grow strong muscles, and repair ourselves if we get hurt.\n",
      "\n",
      "Wow, that's a lot of hard work just to keep our bodies healthy and happy!\n",
      "\n",
      "Do you have any other questions about digestion?\n",
      "---\n"
     ]
    },
    {
     "data": {
      "text/markdown": [
       "> system prompt :  **\n",
       "You are an experienced teacher for high school tasked with helping students with their questions \n",
       "**"
      ],
      "text/plain": [
       "<IPython.core.display.Markdown object>"
      ]
     },
     "metadata": {},
     "output_type": "display_data"
    },
    {
     "name": "stdout",
     "output_type": "stream",
     "text": [
      "Digestion is a fascinating process that involves the breakdown of food into nutrients that our bodies can absorb and use.\n",
      "\n",
      "The human digestive system consists of several organs, including the mouth, esophagus, stomach, small intestine, and large intestine. Here's a step-by-step explanation of how we digest food:\n",
      "\n",
      "**Mouth:**\n",
      "\n",
      "1. Food enters the mouth, where it's chewed by teeth into smaller pieces.\n",
      "2. Saliva produced by glands in the mouth contains enzymes like amylase, which breaks down carbohydrates (starches) into simpler sugars.\n",
      "3. The tongue and cheeks help mix food with saliva, creating a bolus that's easy to swallow.\n",
      "\n",
      "**Esophagus:**\n",
      "\n",
      "1. Swallowed food passes through the esophagus, a muscular tube that uses peristalsis (wave-like muscle contractions) to propel food towards the stomach.\n",
      "2. The esophagus is lined with mucus, which helps prevent food from sticking and makes it easier for food to pass through.\n",
      "\n",
      "**Stomach:**\n",
      "\n",
      "1. Food enters the stomach, where it's mixed with stomach acid (hydrochloric acid) and digestive enzymes like pepsin and gastric amylase.\n",
      "2. The stomach lining secretes mucus to protect itself from the acidic environment.\n",
      "3. Stomach acid breaks down proteins into smaller peptides and amino acids.\n",
      "\n",
      "**Small Intestine:**\n",
      "\n",
      "1. Food enters the small intestine, where most of our nutrient absorption takes place.\n",
      "2. Pancreatic juice (produced by the pancreas) is released into the small intestine, containing enzymes like amylase, lipase, and trypsin.\n",
      "3. These enzymes break down carbohydrates, fats, and proteins into simpler sugars, fatty acids, and amino acids.\n",
      "4. The walls of the small intestine are lined with finger-like projections called villi, which increase the surface area for absorption.\n",
      "\n",
      "**Large Intestine (Colon):**\n",
      "\n",
      "1. Remaining waste products enter the large intestine, where water is absorbed and electrolytes are reabsorbed.\n",
      "2. The colon's lining secretes mucus to prevent dehydration and maintain a healthy environment.\n",
      "3. The large intestine also houses trillions of microorganisms called gut flora, which help with digestion, immune function, and overall health.\n",
      "\n",
      "**Absorption:**\n",
      "\n",
      "1. Nutrients absorbed in the small intestine are transported across the intestinal wall into the bloodstream through a process called facilitated diffusion.\n",
      "2. The bloodstream carries nutrients to various parts of the body, where they're used for energy production, growth, and repair.\n",
      "\n",
      "That's a basic overview of how humans digest food!\n",
      "---\n"
     ]
    }
   ],
   "source": [
    "system_instruction_1 =  \"\"\"\n",
    "You are an experienced teacher for primary school tasked with helping students with their questions \n",
    "\"\"\"\n",
    "\n",
    "system_instruction_2 =  \"\"\"\n",
    "You are an experienced teacher for high school tasked with helping students with their questions \n",
    "\"\"\"\n",
    "\n",
    "text = \"\"\"\n",
    "How do we humans digest food?\n",
    "\"\"\"\n",
    "\n",
    "prompt = f\"\"\"\n",
    "```{text}```\n",
    "\"\"\"\n",
    "display(Markdown(f\"> sample output using **{DEFAULT_LLM}**\"))\n",
    "for system_instruction in  [system_instruction_1,system_instruction_2]:\n",
    "    display(Markdown(f\"> system prompt :  **{system_instruction}**\"))\n",
    "    messages=[{\n",
    "        \"role\": \"system\",\n",
    "        \"content\": system_instruction\n",
    "      },\n",
    "      {\n",
    "        \"role\": \"user\",\n",
    "        \"content\": text\n",
    "      }]\n",
    "    print(get_completion('',messages=messages))\n",
    "    print(\"---\")"
   ]
  },
  {
   "cell_type": "code",
   "execution_count": 8,
   "id": "e7be270c-e6ca-486b-91fc-b4e5c6b5c4b8",
   "metadata": {},
   "outputs": [
    {
     "data": {
      "text/markdown": [
       "> sample output using **LOCAL_LLM**"
      ],
      "text/plain": [
       "<IPython.core.display.Markdown object>"
      ]
     },
     "metadata": {},
     "output_type": "display_data"
    }
   ],
   "source": [
    "display(Markdown(f\"> sample output using **{DEFAULT_LLM}**\"))"
   ]
  },
  {
   "cell_type": "markdown",
   "id": "992abb58-3125-468e-a3a9-764a4405235b",
   "metadata": {},
   "source": [
    "### 2. Break-down Complex Tasks\n",
    "\n",
    "Provide Step by Step Instructions"
   ]
  },
  {
   "cell_type": "code",
   "execution_count": 9,
   "id": "b4d35d55-3540-4a63-9628-5880c75eea9d",
   "metadata": {},
   "outputs": [
    {
     "data": {
      "text/markdown": [
       "> sample output using **LOCAL_LLM**"
      ],
      "text/plain": [
       "<IPython.core.display.Markdown object>"
      ]
     },
     "metadata": {},
     "output_type": "display_data"
    },
    {
     "name": "stdout",
     "output_type": "stream",
     "text": [
      "Here are the instructions rewritten in the requested format:\n",
      "\n",
      "Point 1 - Boil water until it comes to a rolling boil.\n",
      "\n",
      "Point 2 - Add half cup of milk to the boiling water.\n",
      "\n",
      "Point 3 - Add tea leaves and let the mixture boil for another minute.\n",
      "\n",
      "Point 4 - Add sugar to taste, according to your preference.\n",
      "\n",
      "Point 5 - Serve the tea in a tall glass.\n"
     ]
    }
   ],
   "source": [
    "# Be Clear and Specific, aka provide step by step instructions\n",
    "text = \"\"\"To make tea you first need to have a cup full of water,\n",
    "half cup milk, some sugar and tea leaves. Start by boiling water.\n",
    "Once it comes to a boil, add milk to it. Next step is to add tea and\n",
    "let it boil for another minute.\n",
    "Add sugar to taste. Serve in a tall glass\n",
    "\"\"\"\n",
    "\n",
    "prompt = f\"\"\"\n",
    "Read the text delimited by triple single quotes.\n",
    "Check if it contains a sequence of instructions, \\\n",
    "re-write the instructions in the following format:\n",
    "\n",
    "Point 1 - ...\n",
    "Point 2 - …\n",
    "…\n",
    "Point N - …\n",
    "\n",
    "If the text does not contain a sequence of instructions, \\\n",
    "then apologize that you cannot rephrase such text.\n",
    "\n",
    "'''{text}'''\n",
    "\"\"\"\n",
    "\n",
    "display(Markdown(f\"> sample output using **{DEFAULT_LLM}**\"))\n",
    "print(get_completion(prompt))"
   ]
  },
  {
   "cell_type": "code",
   "execution_count": 10,
   "id": "f752cffa-bd46-4d6b-b336-a5a06dbaa68d",
   "metadata": {},
   "outputs": [
    {
     "data": {
      "text/markdown": [
       "> sample output using **LOCAL_LLM**"
      ],
      "text/plain": [
       "<IPython.core.display.Markdown object>"
      ]
     },
     "metadata": {},
     "output_type": "display_data"
    },
    {
     "name": "stdout",
     "output_type": "stream",
     "text": [
      "**Summary:** The author's last holiday was in Germany, where they visited two cities: Berlin and Hamburg.\n",
      "\n",
      "**German Translation:**\n",
      "Unser letzter Urlaub war in Deutschland. Wir besuchten Berlin und Hamburg.\n",
      "\n",
      "**List of Cities:**\n",
      "\n",
      "1. Berlin\n",
      "2. Hamburg\n",
      "\n",
      "**Python Dictionary Output:**\n",
      "```python\n",
      "{\n",
      "    \"original_text\": \"Our last holiday was in Germany. We visited Berlin and Hamburg.\",\n",
      "    \"german_translation\": \"Unser letzter Urlaub war in Deutschland. Wir besuchten Berlin und Hamburg.\",\n",
      "    \"num_cities\": 2,\n",
      "    \"city_names\": [\"Berlin\", \"Hamburg\"]\n",
      "}\n",
      "```\n"
     ]
    }
   ],
   "source": [
    "# Allow for time to think (similar to step by step instructions)\n",
    "text = \"\"\"\n",
    "Our last holiday was in Germany. We visited Berlin and Hamburg.\n",
    "\"\"\"\n",
    "prompt = f\"\"\"\n",
    "Summarize the text delimited by triple \\\n",
    "backticks briefly. Then follow the instructions :\n",
    "1 - Translate the summary to German.\n",
    "2 - List each city in the text.\n",
    "3 - Output a python dictionary object that contains the following \\\n",
    "keys: original_text, german_translation, num_cities, city_names.\n",
    "\n",
    "Text:\n",
    "```{text}```\n",
    "\"\"\"\n",
    "\n",
    "display(Markdown(f\"> sample output using **{DEFAULT_LLM}**\"))\n",
    "print(get_completion(prompt))"
   ]
  },
  {
   "cell_type": "markdown",
   "id": "3c0b45bc-01e8-4739-bee9-7e54f9e379fd",
   "metadata": {},
   "source": [
    "### Provide Examples"
   ]
  },
  {
   "cell_type": "code",
   "execution_count": 11,
   "id": "42934235-f134-42ec-bfc0-7ee4ff1b490f",
   "metadata": {},
   "outputs": [
    {
     "data": {
      "text/markdown": [
       "> sample output using **LOCAL_LLM**"
      ],
      "text/plain": [
       "<IPython.core.display.Markdown object>"
      ]
     },
     "metadata": {},
     "output_type": "display_data"
    },
    {
     "name": "stdout",
     "output_type": "stream",
     "text": [
      "Monkeys are primates that belong to the infraorder Simiiformes. They are one of the most diverse groups of mammals, with over 260 species spread across various parts of the world.\n",
      "\n",
      "Here are some key characteristics of monkeys:\n",
      "\n",
      "1. **Physical appearance**: Monkeys have a slender body, long arms, and a tail. They have a wide range of sizes, from the tiny pygmy marmoset (only 140 grams) to the large mandrill (up to 35 kg).\n",
      "2. **Behavior**: Monkeys are social animals that live in groups, called troops or bands. They are known for their agility, intelligence, and adaptability.\n",
      "3. **Diet**: Monkeys are omnivores, which means they eat both plants and animals. Their diet varies depending on the species, but common food sources include fruits, leaves, insects, and small animals.\n",
      "4. **Habitat**: Monkeys can be found in various habitats, including tropical forests, savannas, and even urban areas.\n",
      "\n",
      "There are two main types of monkeys:\n",
      "\n",
      "1. **Old World monkeys** (Cercopithecidae): These monkeys are native to Africa and Asia. Examples include macaques, baboons, and mandrills.\n",
      "2. **New World monkeys** (Callitrichidae): These monkeys are found in Central and South America. Examples include capuchin, tamarins, and marmosets.\n",
      "\n",
      "Monkeys play an important role in their ecosystems, serving as seed dispersers, pollinators, and predators. They also have a significant impact on human societies, with some species being considered pests or threats to agriculture.\n",
      "\n",
      "Overall, monkeys are fascinating creatures that continue to capture the imagination of scientists, conservationists, and animal lovers around the world!\n"
     ]
    }
   ],
   "source": [
    "# without instructions or examples\n",
    "# openAI\n",
    "prompt= \"What are monkeys?\"\n",
    "display(Markdown(f\"> sample output using **{DEFAULT_LLM}**\"))\n",
    "print(get_completion(prompt))"
   ]
  },
  {
   "cell_type": "code",
   "execution_count": 13,
   "id": "70a86089-0d2e-443b-a60c-d7f49761f190",
   "metadata": {},
   "outputs": [
    {
     "data": {
      "text/markdown": [
       "> sample output using **LOCAL_LLM**"
      ],
      "text/plain": [
       "<IPython.core.display.Markdown object>"
      ]
     },
     "metadata": {},
     "output_type": "display_data"
    },
    {
     "name": "stdout",
     "output_type": "stream",
     "text": [
      "\"<kid>: What are cats?\n",
      "<father>: Cats are our furry friends at home\"\n"
     ]
    }
   ],
   "source": [
    "# Be Clear and Specific and provide examples\n",
    "prompt = f\"\"\"\n",
    "Your task is to answer in conversation style mentioned in triple back quotes.\n",
    "Keep answers very short similar to examples provided below.\n",
    "\n",
    "```\n",
    "<kid>: What are birds?\n",
    "<father>: birds are cute little creatures that can fly\n",
    "\n",
    "<kid>: What are whales?\n",
    "<father>: Whales are very big fish that roam the oceans\n",
    "```\n",
    "\n",
    "<kid>: What are cats?\n",
    "<father>:\n",
    "\"\"\"\n",
    "display(Markdown(f\"> sample output using **{DEFAULT_LLM}**\"))\n",
    "print(get_completion(prompt))"
   ]
  },
  {
   "cell_type": "code",
   "execution_count": null,
   "id": "b33f29c6-fb1e-4093-b2ed-01aa86f88ee3",
   "metadata": {},
   "outputs": [],
   "source": []
  }
 ],
 "metadata": {
  "kernelspec": {
   "display_name": "Python 3 (ipykernel)",
   "language": "python",
   "name": "python3"
  },
  "language_info": {
   "codemirror_mode": {
    "name": "ipython",
    "version": 3
   },
   "file_extension": ".py",
   "mimetype": "text/x-python",
   "name": "python",
   "nbconvert_exporter": "python",
   "pygments_lexer": "ipython3",
   "version": "3.13.5"
  }
 },
 "nbformat": 4,
 "nbformat_minor": 5
}
